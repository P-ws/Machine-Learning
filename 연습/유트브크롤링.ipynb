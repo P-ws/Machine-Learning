{
 "cells": [
  {
   "cell_type": "code",
   "execution_count": 1,
   "id": "73a916e9-cd51-41c0-9ed4-ba65f21ac4a6",
   "metadata": {},
   "outputs": [],
   "source": [
    "from selenium import webdriver as wb\n",
    "from selenium.webdriver.common.keys import Keys \n",
    "from bs4 import BeautifulSoup as bs"
   ]
  },
  {
   "cell_type": "code",
   "execution_count": null,
   "id": "40867b19-d825-41db-90c1-c2a1213a6365",
   "metadata": {},
   "outputs": [],
   "source": []
  },
  {
   "cell_type": "code",
   "execution_count": 2,
   "id": "ca6598e5-24da-4921-b184-38be0e07562a",
   "metadata": {},
   "outputs": [],
   "source": [
    "driver = wb.Chrome('chromedriver.ipynb')"
   ]
  },
  {
   "cell_type": "code",
   "execution_count": 3,
   "id": "e1edf0b9-01ee-417b-885a-d21c15b659bd",
   "metadata": {},
   "outputs": [],
   "source": [
    "url = 'https://www.youtube.com/'\n",
    "res = 'results?search_query='\n",
    "anw = '머신러닝'\n",
    "driver.get(url+res+anw)"
   ]
  },
  {
   "cell_type": "code",
   "execution_count": 4,
   "id": "012ded36-d186-4c5e-9aaa-61747a29e70f",
   "metadata": {},
   "outputs": [],
   "source": [
    "soup = bs(driver.page_source,'html.parser')"
   ]
  },
  {
   "cell_type": "code",
   "execution_count": 54,
   "id": "6a014c1a-0366-46f1-a939-c8b3fdb18637",
   "metadata": {},
   "outputs": [],
   "source": [
    "a = soup.select('a#video-title')"
   ]
  },
  {
   "cell_type": "code",
   "execution_count": 55,
   "id": "75acfd00-6bf6-4232-ae39-092c9625c274",
   "metadata": {},
   "outputs": [],
   "source": [
    "#ar\n",
    "titles = []\n",
    "links = []\n",
    "num = []\n",
    "for i in a:\n",
    "    titles.append(i['title'])\n",
    "    links.append(i['href'])\n",
    "    start= i['aria-label'].index('조회수')\n",
    "    a = i['aria-label'][start:]\n",
    "    num.append(a)\n",
    "    \n",
    "info = {'titles':titles, 'links':links, 'num':num}"
   ]
  },
  {
   "cell_type": "code",
   "execution_count": 57,
   "id": "fe048895-c0d9-48aa-b700-8d9eb78e81cb",
   "metadata": {},
   "outputs": [],
   "source": [
    "import pandas as pd\n",
    "df = pd.DataFrame(info)"
   ]
  },
  {
   "cell_type": "code",
   "execution_count": 59,
   "id": "fad0406e-8f4f-4882-9fc6-eaac501de23a",
   "metadata": {},
   "outputs": [],
   "source": [
    "df.to_csv('youtube.csv')"
   ]
  },
  {
   "cell_type": "code",
   "execution_count": null,
   "id": "4cdcf9e5-c1c2-4dbd-b3ab-bc23a0630344",
   "metadata": {},
   "outputs": [],
   "source": []
  }
 ],
 "metadata": {
  "kernelspec": {
   "display_name": "Python 3",
   "language": "python",
   "name": "python3"
  },
  "language_info": {
   "codemirror_mode": {
    "name": "ipython",
    "version": 3
   },
   "file_extension": ".py",
   "mimetype": "text/x-python",
   "name": "python",
   "nbconvert_exporter": "python",
   "pygments_lexer": "ipython3",
   "version": "3.8.8"
  }
 },
 "nbformat": 4,
 "nbformat_minor": 5
}

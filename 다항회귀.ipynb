{
 "cells": [
  {
   "cell_type": "code",
   "execution_count": 36,
   "id": "4907d9b1-e3ee-4437-99f1-106a8e5276f6",
   "metadata": {},
   "outputs": [],
   "source": [
    "import numpy as np\n",
    "import matplotlib.pyplot as plt\n",
    "from sklearn.linear_model import LinearRegression, Ridge, Lasso, ElasticNet"
   ]
  },
  {
   "cell_type": "code",
   "execution_count": 37,
   "id": "53705c81-93e5-493f-98b8-49a4dce402e8",
   "metadata": {},
   "outputs": [
    {
     "data": {
      "text/plain": [
       "(379, 104)"
      ]
     },
     "execution_count": 37,
     "metadata": {},
     "output_type": "execute_result"
    }
   ],
   "source": [
    "import mglearn\n",
    "from sklearn.model_selection import train_test_split\n",
    "\n",
    "X, y = mglearn.datasets.load_extended_boston()\n",
    "X_train, X_test, y_train, y_test = train_test_split(X, y, random_state = 0)\n",
    "X_train.shape"
   ]
  },
  {
   "cell_type": "code",
   "execution_count": 38,
   "id": "2b6df582-8657-4d5f-a8c0-e66b2595179e",
   "metadata": {},
   "outputs": [
    {
     "data": {
      "text/plain": [
       "0.952051960903273"
      ]
     },
     "execution_count": 38,
     "metadata": {},
     "output_type": "execute_result"
    }
   ],
   "source": [
    "model = LinearRegression().fit(X_train, y_train)\n",
    "model.score(X_train, y_train)"
   ]
  },
  {
   "cell_type": "code",
   "execution_count": 39,
   "id": "6d96c261-9252-4136-af22-3c573db79244",
   "metadata": {},
   "outputs": [
    {
     "data": {
      "text/plain": [
       "0.6074721959665854"
      ]
     },
     "execution_count": 39,
     "metadata": {},
     "output_type": "execute_result"
    }
   ],
   "source": [
    "model.score(X_test, y_test)"
   ]
  },
  {
   "cell_type": "code",
   "execution_count": 40,
   "id": "7f4b13c9-17cd-4110-a009-35159754168a",
   "metadata": {},
   "outputs": [
    {
     "name": "stdout",
     "output_type": "stream",
     "text": [
      "훈련점수: 0.885796658517094\n",
      "테스트점수: 0.752768348174475\n"
     ]
    }
   ],
   "source": [
    "model_ridge = Ridge().fit(X_train, y_train)\n",
    "\n",
    "print('훈련점수:', model_ridge.score(X_train, y_train))\n",
    "print('테스트점수:', model_ridge.score(X_test, y_test))"
   ]
  },
  {
   "cell_type": "code",
   "execution_count": 41,
   "id": "e91b5b87-b3d6-4bfd-a10d-1aeab63d79dc",
   "metadata": {},
   "outputs": [
    {
     "name": "stdout",
     "output_type": "stream",
     "text": [
      "훈련점수: 0.7882787115369614\n",
      "테스트점수: 0.6359411489177311\n"
     ]
    }
   ],
   "source": [
    "model_ridge_10 = Ridge(alpha=10).fit(X_train, y_train)\n",
    "\n",
    "print('훈련점수:', model_ridge_10.score(X_train, y_train))\n",
    "print('테스트점수:', model_ridge_10.score(X_test, y_test))"
   ]
  },
  {
   "cell_type": "code",
   "execution_count": 42,
   "id": "15ba3c53-3e70-4001-ba17-4b8b01fdf18f",
   "metadata": {},
   "outputs": [
    {
     "name": "stdout",
     "output_type": "stream",
     "text": [
      "훈련점수: 0.9282273685001987\n",
      "테스트점수: 0.7722067936479647\n"
     ]
    }
   ],
   "source": [
    "model_ridge_01 = Ridge(alpha=0.1).fit(X_train, y_train)\n",
    "\n",
    "print('훈련점수:', model_ridge_01.score(X_train, y_train))\n",
    "print('테스트점수:', model_ridge_01.score(X_test, y_test))"
   ]
  },
  {
   "cell_type": "code",
   "execution_count": 43,
   "id": "7316b721-abae-467f-a447-0610043a99c0",
   "metadata": {},
   "outputs": [
    {
     "data": {
      "text/plain": [
       "(-25.0, 25.0)"
      ]
     },
     "execution_count": 43,
     "metadata": {},
     "output_type": "execute_result"
    },
    {
     "data": {
      "image/png": "[encoded data removed]",
      "text/plain": [
       "<Figure size 432x288 with 1 Axes>"
      ]
     },
     "metadata": {
      "needs_background": "light"
     },
     "output_type": "display_data"
    }
   ],
   "source": [
    "# coef_ 가중치 , intercept_ 편향\n",
    "plt.plot(model_ridge_01.coef_, 'v', label = 'Ridge aplha = 0.1')\n",
    "plt.plot(model.coef_, 'o', label = 'LinearRegression')\n",
    "plt.legend()\n",
    "plt.ylim(-25,25)"
   ]
  },
  {
   "cell_type": "code",
   "execution_count": 44,
   "id": "7b9b2d9e-333e-4c6b-a398-405a347d57e6",
   "metadata": {},
   "outputs": [
    {
     "name": "stdout",
     "output_type": "stream",
     "text": [
      "훈련점수: 0.29323768991114607\n",
      "테스트점수: 0.20937503255272294\n",
      "사용한 특성 수: 4\n"
     ]
    }
   ],
   "source": [
    "from sklearn.linear_model import Lasso\n",
    "\n",
    "# lasso\n",
    "model_lasso = Lasso().fit(X_train, y_train)\n",
    "\n",
    "print('훈련점수:', model_lasso.score(X_train, y_train))\n",
    "print('테스트점수:', model_lasso.score(X_test, y_test))\n",
    "print('사용한 특성 수:', np.sum( model_lasso.coef_ != 0 ) )"
   ]
  },
  {
   "cell_type": "code",
   "execution_count": 45,
   "id": "83c0042b-a174-43cc-852e-5848a9fe942f",
   "metadata": {},
   "outputs": [
    {
     "name": "stdout",
     "output_type": "stream",
     "text": [
      "훈련점수: 0.8962226511086497\n",
      "테스트점수: 0.7656571174549983\n",
      "사용한 특성 수: 33\n"
     ]
    }
   ],
   "source": [
    "model_lasso_001 = Lasso(alpha=0.01, max_iter=10000).fit(X_train, y_train)\n",
    "\n",
    "print('훈련점수:', model_lasso_001.score(X_train, y_train))\n",
    "print('테스트점수:', model_lasso_001.score(X_test, y_test))\n",
    "print('사용한 특성 수:', np.sum( model_lasso_001.coef_ != 0 ) )"
   ]
  },
  {
   "cell_type": "code",
   "execution_count": 46,
   "id": "2273be18-42a5-4ce1-abe9-200a1bbb3fc0",
   "metadata": {},
   "outputs": [
    {
     "data": {
      "text/plain": [
       "(104,)"
      ]
     },
     "execution_count": 46,
     "metadata": {},
     "output_type": "execute_result"
    }
   ],
   "source": [
    "model_lasso_001.coef_.shape"
   ]
  },
  {
   "cell_type": "code",
   "execution_count": 47,
   "id": "73cadc09-9719-4214-89f4-123a3269f8a7",
   "metadata": {},
   "outputs": [
    {
     "name": "stdout",
     "output_type": "stream",
     "text": [
      "훈련점수: 0.9507158754515467\n",
      "테스트점수: 0.6437467421272711\n",
      "사용한 특성 수: 96\n"
     ]
    }
   ],
   "source": [
    "model_lasso_00001 = Lasso(alpha=0.0001, max_iter=100000).fit(X_train, y_train)\n",
    "\n",
    "print('훈련점수:', model_lasso_00001.score(X_train, y_train))\n",
    "print('테스트점수:', model_lasso_00001.score(X_test, y_test))\n",
    "print('사용한 특성 수:', np.sum( model_lasso_00001.coef_ != 0 ) )"
   ]
  },
  {
   "cell_type": "code",
   "execution_count": 48,
   "id": "cf6e0d9d-9695-47a2-b173-5e2d7e941ccb",
   "metadata": {},
   "outputs": [
    {
     "data": {
      "text/plain": [
       "(-25.0, 25.0)"
      ]
     },
     "execution_count": 48,
     "metadata": {},
     "output_type": "execute_result"
    },
    {
     "data": {
      "image/png": "[encoded data removed]",
      "text/plain": [
       "<Figure size 432x288 with 1 Axes>"
      ]
     },
     "metadata": {
      "needs_background": "light"
     },
     "output_type": "display_data"
    }
   ],
   "source": [
    "plt.plot(model_lasso.coef_, 's', label='Lasso alpha=1')\n",
    "plt.plot(model_lasso_001.coef_, '^', label='Lasso alpha=0.01')\n",
    "plt.plot(model_lasso_00001.coef_, 'v', label='Lasso alpha=0.0001')\n",
    "\n",
    "plt.plot(model.coef_, 'o', label='LinearRegression')\n",
    "plt.legend(ncol=2, loc=(0, 1.05))\n",
    "plt.ylim(-25, 25)"
   ]
  },
  {
   "cell_type": "code",
   "execution_count": 100,
   "id": "8dbf81c4-434d-4cbc-b65e-1c1134440930",
   "metadata": {},
   "outputs": [
    {
     "data": {
      "text/plain": [
       "<matplotlib.collections.PathCollection at 0x2672e716c70>"
      ]
     },
     "execution_count": 100,
     "metadata": {},
     "output_type": "execute_result"
    },
    {
     "data": {
      "image/png": "[encoded data removed]",
      "text/plain": [
       "<Figure size 432x288 with 1 Axes>"
      ]
     },
     "metadata": {
      "needs_background": "light"
     },
     "output_type": "display_data"
    }
   ],
   "source": [
    "# 다항 회귀\n",
    "n = 100\n",
    "# random.rand n행, 1열 \n",
    "x = 6*np.random.rand(n,1) -3\n",
    "y = 0.5 * x**2 +1*x +2+np.random.rand(n,1)\n",
    "plt.scatter(x, y, s=5)\n"
   ]
  },
  {
   "cell_type": "code",
   "execution_count": 101,
   "id": "51d5cf72-52e5-42c3-af0b-d7dc2b23cc7e",
   "metadata": {},
   "outputs": [
    {
     "data": {
      "text/plain": [
       "((100, 1), (100, 2))"
      ]
     },
     "execution_count": 101,
     "metadata": {},
     "output_type": "execute_result"
    }
   ],
   "source": [
    "from sklearn.linear_model import LinearRegression\n",
    "from sklearn.preprocessing import PolynomialFeatures\n",
    "\n",
    "from sklearn.pipeline import make_pipeline\n",
    "\n",
    "poly_features = PolynomialFeatures(degree=2, include_bias=False)\n",
    "x_poly = poly_features.fit_transform(x)\n",
    "x.shape, x_poly.shape"
   ]
  },
  {
   "cell_type": "code",
   "execution_count": 102,
   "id": "7dab826c-eba7-4cd0-bff3-797647bf2f0b",
   "metadata": {},
   "outputs": [
    {
     "data": {
      "text/plain": [
       "(array([[ 1.17806093],\n",
       "        [-0.73348896],\n",
       "        [-1.92237793],\n",
       "        [-2.85192763],\n",
       "        [-2.59650221]]),\n",
       " array([[ 1.17806093,  1.38782756],\n",
       "        [-0.73348896,  0.53800606],\n",
       "        [-1.92237793,  3.69553692],\n",
       "        [-2.85192763,  8.1334912 ],\n",
       "        [-2.59650221,  6.74182373]]))"
      ]
     },
     "execution_count": 102,
     "metadata": {},
     "output_type": "execute_result"
    }
   ],
   "source": [
    "# x주어지면 x, x**2\n",
    "x[0:5], x_poly[0:5]"
   ]
  },
  {
   "cell_type": "code",
   "execution_count": 103,
   "id": "2d65bcf9-56af-466f-9350-75b8ab9f4c79",
   "metadata": {},
   "outputs": [
    {
     "data": {
      "text/plain": [
       "PolynomialFeatures(include_bias=False)"
      ]
     },
     "execution_count": 103,
     "metadata": {},
     "output_type": "execute_result"
    }
   ],
   "source": [
    "poly_features"
   ]
  },
  {
   "cell_type": "code",
   "execution_count": 104,
   "id": "d3aa932c-062a-4708-9cd5-df7c340b9ac3",
   "metadata": {},
   "outputs": [
    {
     "data": {
      "text/plain": [
       "(array([1.17806093]), array([1.17806093, 1.38782756]))"
      ]
     },
     "execution_count": 104,
     "metadata": {},
     "output_type": "execute_result"
    }
   ],
   "source": [
    "x[0], x_poly[0]"
   ]
  },
  {
   "cell_type": "code",
   "execution_count": 105,
   "id": "b6650557-3237-4dfc-a954-bb3b9dbdf6a3",
   "metadata": {},
   "outputs": [
    {
     "data": {
      "text/plain": [
       "(array([[0.98222473, 0.50463411]]), array([2.45395074]))"
      ]
     },
     "execution_count": 105,
     "metadata": {},
     "output_type": "execute_result"
    }
   ],
   "source": [
    "model = LinearRegression().fit(x_poly, y)\n",
    "model.coef_, model.intercept_"
   ]
  },
  {
   "cell_type": "code",
   "execution_count": 106,
   "id": "d8b2274a-e631-4211-9e6a-2e6f177e703c",
   "metadata": {},
   "outputs": [],
   "source": [
    "model_line = LinearRegression().fit(x,y)"
   ]
  },
  {
   "cell_type": "code",
   "execution_count": 107,
   "id": "137795e3-2d5e-4b3a-9934-50f5e54d5765",
   "metadata": {},
   "outputs": [
    {
     "data": {
      "text/plain": [
       "(array([[0.98222473, 0.50463411]]), array([2.45395074]))"
      ]
     },
     "execution_count": 107,
     "metadata": {},
     "output_type": "execute_result"
    }
   ],
   "source": [
    "model_lr = make_pipeline(poly_features, LinearRegression())\n",
    "model_lr.fit(x, y)\n",
    "model_lr.steps[1][1].coef_, model_lr.steps[1][1].intercept_"
   ]
  },
  {
   "cell_type": "code",
   "execution_count": 108,
   "id": "77797ca2-91d4-46ea-b042-fba74ac5a377",
   "metadata": {},
   "outputs": [
    {
     "data": {
      "text/plain": [
       "<matplotlib.collections.PathCollection at 0x2672e31b0d0>"
      ]
     },
     "execution_count": 108,
     "metadata": {},
     "output_type": "execute_result"
    },
    {
     "data": {
      "image/png": "[encoded data removed]",
      "text/plain": [
       "<Figure size 432x288 with 1 Axes>"
      ]
     },
     "metadata": {
      "needs_background": "light"
     },
     "output_type": "display_data"
    }
   ],
   "source": [
    "# 다항회귀 그래프\n",
    "plt.scatter(x, y, s=5)\n",
    "xx = np.linspace(-3,3,1000)\n",
    "yy = model_lr.predict(xx.reshape(-1,1))\n",
    "y_line = model_line.predict(xx[:,np.newaxis])\n",
    "plt.scatter(xx, yy, s=1)\n",
    "plt.scatter(xx, y_line, s=1)"
   ]
  },
  {
   "cell_type": "code",
   "execution_count": 84,
   "id": "ea5bc527-3891-405b-9999-2da76bb00f15",
   "metadata": {},
   "outputs": [
    {
     "data": {
      "text/plain": [
       "array([[0, 1],\n",
       "       [2, 3],\n",
       "       [4, 5]])"
      ]
     },
     "execution_count": 84,
     "metadata": {},
     "output_type": "execute_result"
    }
   ],
   "source": [
    "from sklearn.preprocessing import PolynomialFeatures\n",
    "X = np.arange(6).reshape(3,2)\n",
    "X"
   ]
  },
  {
   "cell_type": "code",
   "execution_count": 85,
   "id": "c3276f8d-ff44-4329-9cb2-4896dea05584",
   "metadata": {},
   "outputs": [
    {
     "data": {
      "text/plain": [
       "array([[ 1.,  0.,  1.,  0.,  0.,  1.],\n",
       "       [ 1.,  2.,  3.,  4.,  6.,  9.],\n",
       "       [ 1.,  4.,  5., 16., 20., 25.]])"
      ]
     },
     "execution_count": 85,
     "metadata": {},
     "output_type": "execute_result"
    }
   ],
   "source": [
    "poly = PolynomialFeatures(degree=2)\n",
    "poly.fit_transform(X)"
   ]
  },
  {
   "cell_type": "code",
   "execution_count": 91,
   "id": "cd3e9f2b-6a0c-44ce-9517-71e33a1ba7e5",
   "metadata": {},
   "outputs": [
    {
     "data": {
      "text/plain": [
       "array([[ 1.,  0.,  1.,  0.],\n",
       "       [ 1.,  2.,  3.,  6.],\n",
       "       [ 1.,  4.,  5., 20.]])"
      ]
     },
     "execution_count": 91,
     "metadata": {},
     "output_type": "execute_result"
    }
   ],
   "source": [
    "poly = PolynomialFeatures(degree=2, interaction_only=True)\n",
    "poly.fit_transform(X)"
   ]
  },
  {
   "cell_type": "code",
   "execution_count": 92,
   "id": "18ec3d68-1abb-4cd0-a1aa-a7260d632e87",
   "metadata": {},
   "outputs": [
    {
     "data": {
      "text/plain": [
       "<matplotlib.collections.PathCollection at 0x2672d9be100>"
      ]
     },
     "execution_count": 92,
     "metadata": {},
     "output_type": "execute_result"
    },
    {
     "data": {
      "image/png": "[encoded data removed]",
      "text/plain": [
       "<Figure size 432x288 with 1 Axes>"
      ]
     },
     "metadata": {
      "needs_background": "light"
     },
     "output_type": "display_data"
    }
   ],
   "source": [
    "import pandas as pd\n",
    "import seaborn as sb\n",
    "\n",
    "np.random.seed(0)\n",
    "n_samples = 100\n",
    "X = np.sort(np.random.rand(n_samples))\n",
    "y = np.sin(2* np.pi * X) + np.random.rand(n_samples)*0.2\n",
    "plt.scatter(X, y, s=10)"
   ]
  },
  {
   "cell_type": "code",
   "execution_count": 93,
   "id": "7b57d3ef-3922-4d20-8d24-083faa5c25fd",
   "metadata": {},
   "outputs": [
    {
     "data": {
      "text/plain": [
       "<matplotlib.collections.PathCollection at 0x2672b9a6610>"
      ]
     },
     "execution_count": 93,
     "metadata": {},
     "output_type": "execute_result"
    },
    {
     "data": {
      "image/png": "[encoded data removed]",
      "text/plain": [
       "<Figure size 432x288 with 1 Axes>"
      ]
     },
     "metadata": {
      "needs_background": "light"
     },
     "output_type": "display_data"
    }
   ],
   "source": [
    "model_lr = make_pipeline(PolynomialFeatures(9), LinearRegression())\n",
    "model_lr.fit(X.reshape(-1,1), y)\n",
    "\n",
    "xx = np.linspace(0,1,1000)\n",
    "yy = model_lr.predict(xx[:,np.newaxis])\n",
    "plt.plot(xx,yy)\n",
    "plt.scatter(X, y, s=10)"
   ]
  },
  {
   "cell_type": "code",
   "execution_count": 95,
   "id": "5efc9476-298d-4cda-a1cc-3b6d739413f1",
   "metadata": {},
   "outputs": [
    {
     "data": {
      "text/plain": [
       "array([ 0.        ,  0.94988354, -3.22131047, -2.23763995, -0.62781568,\n",
       "        0.49755131,  1.06942182,  1.23494169,  1.14389795,  0.90697275])"
      ]
     },
     "execution_count": 95,
     "metadata": {},
     "output_type": "execute_result"
    },
    {
     "data": {
      "image/png": "[encoded data removed]",
      "text/plain": [
       "<Figure size 432x288 with 1 Axes>"
      ]
     },
     "metadata": {
      "needs_background": "light"
     },
     "output_type": "display_data"
    }
   ],
   "source": [
    "model_ridge = make_pipeline(PolynomialFeatures(9), Ridge(alpha=0.1))\n",
    "model_ridge.fit(X.reshape(-1, 1), y)\n",
    "\n",
    "xx = np.linspace(0, 1, 1000)\n",
    "yy = model_ridge.predict(xx[:, np.newaxis])\n",
    "plt.plot(xx, yy)\n",
    "plt.scatter(X, y, s=10)\n",
    "model_ridge.steps[1][1].coef_"
   ]
  },
  {
   "cell_type": "code",
   "execution_count": 96,
   "id": "66eaed04-bad6-4846-8f65-60dfc4888e61",
   "metadata": {},
   "outputs": [
    {
     "name": "stderr",
     "output_type": "stream",
     "text": [
      "C:\\Users\\woosung\\Anaconda3\\lib\\site-packages\\sklearn\\linear_model\\_coordinate_descent.py:530: ConvergenceWarning: Objective did not converge. You might want to increase the number of iterations. Duality gap: 0.03594071510135244, tolerance: 0.0048618565892925205\n",
      "  model = cd_fast.enet_coordinate_descent(\n"
     ]
    },
    {
     "data": {
      "text/plain": [
       "array([  0.        ,   4.18108172, -10.01431206,  -0.        ,\n",
       "         0.        ,   1.85974242,   3.92550755,   0.        ,\n",
       "         0.        ,   0.        ])"
      ]
     },
     "execution_count": 96,
     "metadata": {},
     "output_type": "execute_result"
    },
    {
     "data": {
      "image/png": "[encoded data removed]",
      "text/plain": [
       "<Figure size 432x288 with 1 Axes>"
      ]
     },
     "metadata": {
      "needs_background": "light"
     },
     "output_type": "display_data"
    }
   ],
   "source": [
    "model_lasso = make_pipeline(PolynomialFeatures(9), Lasso(alpha=0.001))\n",
    "model_lasso.fit(X.reshape(-1, 1), y)\n",
    "\n",
    "xx = np.linspace(0, 1, 1000)\n",
    "yy = model_lasso.predict(xx[:, np.newaxis])\n",
    "plt.plot(xx, yy)\n",
    "plt.scatter(X, y, s=10)\n",
    "model_lasso.steps[1][1].coef_"
   ]
  },
  {
   "cell_type": "code",
   "execution_count": 97,
   "id": "fe8105d3-ebf3-4160-a95d-0441bc94e092",
   "metadata": {},
   "outputs": [
    {
     "data": {
      "text/plain": [
       "array([ 0.        , -0.76935476, -1.50520231, -0.56312049, -0.        ,\n",
       "        0.        ,  0.        ,  0.40179181,  0.66175708,  0.81938881])"
      ]
     },
     "execution_count": 97,
     "metadata": {},
     "output_type": "execute_result"
    },
    {
     "data": {
      "image/png": "[encoded data removed]",
      "text/plain": [
       "<Figure size 432x288 with 1 Axes>"
      ]
     },
     "metadata": {
      "needs_background": "light"
     },
     "output_type": "display_data"
    }
   ],
   "source": [
    "model_el = make_pipeline(PolynomialFeatures(9),\n",
    "                         ElasticNet(alpha=0.01, l1_ratio=0.5))\n",
    "model_el.fit(X.reshape(-1, 1), y)\n",
    "\n",
    "xx = np.linspace(0, 1, 1000)\n",
    "yy = model_el.predict(xx[:, np.newaxis])\n",
    "plt.plot(xx, yy)\n",
    "plt.scatter(X, y, s=10)\n",
    "model_el.steps[1][1].coef_"
   ]
  },
  {
   "cell_type": "code",
   "execution_count": null,
   "id": "04edea7f-73f3-4b2b-b77a-e557d69b2679",
   "metadata": {},
   "outputs": [],
   "source": []
  }
 ],
 "metadata": {
  "kernelspec": {
   "display_name": "Python 3",
   "language": "python",
   "name": "python3"
  },
  "language_info": {
   "codemirror_mode": {
    "name": "ipython",
    "version": 3
   },
   "file_extension": ".py",
   "mimetype": "text/x-python",
   "name": "python",
   "nbconvert_exporter": "python",
   "pygments_lexer": "ipython3",
   "version": "3.8.8"
  }
 },
 "nbformat": 4,
 "nbformat_minor": 5
}

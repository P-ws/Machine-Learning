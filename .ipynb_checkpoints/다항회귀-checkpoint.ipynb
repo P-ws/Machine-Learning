{
 "cells": [
  {
   "cell_type": "code",
   "execution_count": 1,
   "id": "4907d9b1-e3ee-4437-99f1-106a8e5276f6",
   "metadata": {},
   "outputs": [],
   "source": [
    "import numpy as np\n",
    "import matplotlib.pyplot as plt\n",
    "from sklearn.linear_model import LinearRegression, Ridge, Lasso, ElasticNet"
   ]
  },
  {
   "cell_type": "code",
   "execution_count": 18,
   "id": "53705c81-93e5-493f-98b8-49a4dce402e8",
   "metadata": {},
   "outputs": [
    {
     "data": {
      "text/plain": [
       "(379, 104)"
      ]
     },
     "execution_count": 18,
     "metadata": {},
     "output_type": "execute_result"
    }
   ],
   "source": [
    "import mglearn\n",
    "from sklearn.model_selection import train_test_split\n",
    "\n",
    "X, y = mglearn.datasets.load_extended_boston()\n",
    "X_train, X_test, y_train, y_test = train_test_split(X, y, random_state = 0)\n",
    "X_train.shape"
   ]
  },
  {
   "cell_type": "code",
   "execution_count": 22,
   "id": "2b6df582-8657-4d5f-a8c0-e66b2595179e",
   "metadata": {},
   "outputs": [
    {
     "data": {
      "text/plain": [
       "0.952051960903273"
      ]
     },
     "execution_count": 22,
     "metadata": {},
     "output_type": "execute_result"
    }
   ],
   "source": [
    "model = LinearRegression().fit(X_train, y_train)\n",
    "model.score(X_train, y_train)"
   ]
  },
  {
   "cell_type": "code",
   "execution_count": 21,
   "id": "6d96c261-9252-4136-af22-3c573db79244",
   "metadata": {},
   "outputs": [
    {
     "data": {
      "text/plain": [
       "0.6074721959665854"
      ]
     },
     "execution_count": 21,
     "metadata": {},
     "output_type": "execute_result"
    }
   ],
   "source": [
    "model.score(X_test, y_test)"
   ]
  },
  {
   "cell_type": "code",
   "execution_count": 23,
   "id": "7f4b13c9-17cd-4110-a009-35159754168a",
   "metadata": {},
   "outputs": [
    {
     "name": "stdout",
     "output_type": "stream",
     "text": [
      "훈련점수: 0.885796658517094\n",
      "테스트점수: 0.752768348174475\n"
     ]
    }
   ],
   "source": [
    "model_ridge = Ridge().fit(X_train, y_train)\n",
    "\n",
    "print('훈련점수:', model_ridge.score(X_train, y_train))\n",
    "print('테스트점수:', model_ridge.score(X_test, y_test))"
   ]
  },
  {
   "cell_type": "code",
   "execution_count": 24,
   "id": "e91b5b87-b3d6-4bfd-a10d-1aeab63d79dc",
   "metadata": {},
   "outputs": [
    {
     "name": "stdout",
     "output_type": "stream",
     "text": [
      "훈련점수: 0.7882787115369614\n",
      "테스트점수: 0.6359411489177311\n"
     ]
    }
   ],
   "source": [
    "model_ridge_10 = Ridge(alpha=10).fit(X_train, y_train)\n",
    "\n",
    "print('훈련점수:', model_ridge_10.score(X_train, y_train))\n",
    "print('테스트점수:', model_ridge_10.score(X_test, y_test))"
   ]
  },
  {
   "cell_type": "code",
   "execution_count": 25,
   "id": "15ba3c53-3e70-4001-ba17-4b8b01fdf18f",
   "metadata": {},
   "outputs": [
    {
     "name": "stdout",
     "output_type": "stream",
     "text": [
      "훈련점수: 0.9282273685001987\n",
      "테스트점수: 0.7722067936479647\n"
     ]
    }
   ],
   "source": [
    "model_ridge_01 = Ridge(alpha=0.1).fit(X_train, y_train)\n",
    "\n",
    "print('훈련점수:', model_ridge_01.score(X_train, y_train))\n",
    "print('테스트점수:', model_ridge_01.score(X_test, y_test))"
   ]
  },
  {
   "cell_type": "code",
   "execution_count": 26,
   "id": "7316b721-abae-467f-a447-0610043a99c0",
   "metadata": {},
   "outputs": [
    {
     "data": {
      "text/plain": [
       "(-25.0, 25.0)"
      ]
     },
     "execution_count": 26,
     "metadata": {},
     "output_type": "execute_result"
    },
    {
     "data": {
      "image/png": "[encoded data removed]",
      "text/plain": [
       "<Figure size 432x288 with 1 Axes>"
      ]
     },
     "metadata": {
      "needs_background": "light"
     },
     "output_type": "display_data"
    }
   ],
   "source": [
    "# coef_ 가중치 , intercept_ 편향\n",
    "plt.plot(model_ridge_01.coef_, 'v', label = 'Ridge aplha = 0.1')\n",
    "plt.plot(model.coef_, 'o', label = 'LinearRegression')\n",
    "plt.legend()\n",
    "plt.ylim(-25,25)"
   ]
  },
  {
   "cell_type": "code",
   "execution_count": 28,
   "id": "7b9b2d9e-333e-4c6b-a398-405a347d57e6",
   "metadata": {},
   "outputs": [
    {
     "name": "stdout",
     "output_type": "stream",
     "text": [
      "훈련점수: 0.29323768991114607\n",
      "테스트점수: 0.20937503255272294\n",
      "사용한 특성 수: 4\n"
     ]
    }
   ],
   "source": [
    "from sklearn.linear_model import Lasso\n",
    "\n",
    "# lasso\n",
    "model_lasso = Lasso().fit(X_train, y_train)\n",
    "\n",
    "print('훈련점수:', model_lasso.score(X_train, y_train))\n",
    "print('테스트점수:', model_lasso.score(X_test, y_test))\n",
    "print('사용한 특성 수:', np.sum( model_lasso.coef_ != 0 ) )"
   ]
  },
  {
   "cell_type": "code",
   "execution_count": 29,
   "id": "83c0042b-a174-43cc-852e-5848a9fe942f",
   "metadata": {},
   "outputs": [
    {
     "name": "stdout",
     "output_type": "stream",
     "text": [
      "훈련점수: 0.8962226511086497\n",
      "테스트점수: 0.7656571174549983\n",
      "사용한 특성 수: 33\n"
     ]
    }
   ],
   "source": [
    "model_lasso_001 = Lasso(alpha=0.01, max_iter=10000).fit(X_train, y_train)\n",
    "\n",
    "print('훈련점수:', model_lasso_001.score(X_train, y_train))\n",
    "print('테스트점수:', model_lasso_001.score(X_test, y_test))\n",
    "print('사용한 특성 수:', np.sum( model_lasso_001.coef_ != 0 ) )"
   ]
  },
  {
   "cell_type": "code",
   "execution_count": 33,
   "id": "2273be18-42a5-4ce1-abe9-200a1bbb3fc0",
   "metadata": {},
   "outputs": [
    {
     "data": {
      "text/plain": [
       "(104,)"
      ]
     },
     "execution_count": 33,
     "metadata": {},
     "output_type": "execute_result"
    }
   ],
   "source": [
    "model_lasso_001.coef_.shape"
   ]
  },
  {
   "cell_type": "code",
   "execution_count": 34,
   "id": "73cadc09-9719-4214-89f4-123a3269f8a7",
   "metadata": {},
   "outputs": [
    {
     "name": "stdout",
     "output_type": "stream",
     "text": [
      "훈련점수: 0.9507158754515467\n",
      "테스트점수: 0.6437467421272711\n",
      "사용한 특성 수: 96\n"
     ]
    }
   ],
   "source": [
    "model_lasso_00001 = Lasso(alpha=0.0001, max_iter=100000).fit(X_train, y_train)\n",
    "\n",
    "print('훈련점수:', model_lasso_00001.score(X_train, y_train))\n",
    "print('테스트점수:', model_lasso_00001.score(X_test, y_test))\n",
    "print('사용한 특성 수:', np.sum( model_lasso_00001.coef_ != 0 ) )"
   ]
  },
  {
   "cell_type": "code",
   "execution_count": 35,
   "id": "cf6e0d9d-9695-47a2-b173-5e2d7e941ccb",
   "metadata": {},
   "outputs": [
    {
     "data": {
      "text/plain": [
       "(-25.0, 25.0)"
      ]
     },
     "execution_count": 35,
     "metadata": {},
     "output_type": "execute_result"
    },
    {
     "data": {
      "image/png": "[encoded data removed]",
      "text/plain": [
       "<Figure size 432x288 with 1 Axes>"
      ]
     },
     "metadata": {
      "needs_background": "light"
     },
     "output_type": "display_data"
    }
   ],
   "source": [
    "plt.plot(model_lasso.coef_, 's', label='Lasso alpha=1')\n",
    "plt.plot(model_lasso_001.coef_, '^', label='Lasso alpha=0.01')\n",
    "plt.plot(model_lasso_00001.coef_, 'v', label='Lasso alpha=0.0001')\n",
    "\n",
    "plt.plot(model.coef_, 'o', label='LinearRegression')\n",
    "plt.legend(ncol=2, loc=(0, 1.05))\n",
    "plt.ylim(-25, 25)"
   ]
  },
  {
   "cell_type": "code",
   "execution_count": null,
   "id": "8dbf81c4-434d-4cbc-b65e-1c1134440930",
   "metadata": {},
   "outputs": [],
   "source": []
  }
 ],
 "metadata": {
  "kernelspec": {
   "display_name": "Python 3",
   "language": "python",
   "name": "python3"
  },
  "language_info": {
   "codemirror_mode": {
    "name": "ipython",
    "version": 3
   },
   "file_extension": ".py",
   "mimetype": "text/x-python",
   "name": "python",
   "nbconvert_exporter": "python",
   "pygments_lexer": "ipython3",
   "version": "3.8.8"
  }
 },
 "nbformat": 4,
 "nbformat_minor": 5
}

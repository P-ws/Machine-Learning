{
 "cells": [
  {
   "cell_type": "code",
   "execution_count": 1,
   "id": "5a543e1c-f586-449b-9b05-a1d10b41a52b",
   "metadata": {},
   "outputs": [
    {
     "data": {
      "text/plain": [
       "[(9, 4), (5, 8), (3, 6), (1, 7)]"
      ]
     },
     "execution_count": 1,
     "metadata": {},
     "output_type": "execute_result"
    }
   ],
   "source": [
    "import random\n",
    "\n",
    "teams = list(range(1,10))\n",
    "random.shuffle(teams)\n",
    "half = len(teams) // 2\n",
    "teams[:half], teams[half:]\n",
    "list(zip(teams[:half], teams[half:]))"
   ]
  },
  {
   "cell_type": "code",
   "execution_count": 2,
   "id": "73cc0e51-a48b-4627-829e-e6effa8cf34c",
   "metadata": {},
   "outputs": [
    {
     "name": "stdout",
     "output_type": "stream",
     "text": [
      "[9, 5, 3, 1, 4, 8, 6, 7, 2]\n"
     ]
    }
   ],
   "source": [
    "print(teams)"
   ]
  },
  {
   "cell_type": "code",
   "execution_count": 3,
   "id": "110befe6-1e17-469b-9319-415b7185bb18",
   "metadata": {},
   "outputs": [],
   "source": [
    "# 학습을 위해 데이터와 레이블 분리하기\n",
    "xor_input = [\n",
    "    [0,0,0],\n",
    "    [0,1,1],\n",
    "    [1,0,1],\n",
    "    [1,1,0]\n",
    "]\n",
    "\n",
    "xor_data = [] # 문제\n",
    "xor_label = [] # 답\n",
    "\n",
    "for p, q, r  in  xor_input:\n",
    "    xor_data.append([p, q])\n",
    "    xor_label.append(r)"
   ]
  },
  {
   "cell_type": "code",
   "execution_count": 4,
   "id": "b8d46eea-8d1a-46cb-b104-dc4bf32368c5",
   "metadata": {},
   "outputs": [
    {
     "data": {
      "text/plain": [
       "[[0, 0], [0, 1], [1, 0], [1, 1]]"
      ]
     },
     "execution_count": 4,
     "metadata": {},
     "output_type": "execute_result"
    }
   ],
   "source": [
    "xor_data"
   ]
  },
  {
   "cell_type": "code",
   "execution_count": 5,
   "id": "9883f97c-8f6e-4e16-8967-6929c45ff7ee",
   "metadata": {},
   "outputs": [
    {
     "data": {
      "text/plain": [
       "[0, 1, 1, 0]"
      ]
     },
     "execution_count": 5,
     "metadata": {},
     "output_type": "execute_result"
    }
   ],
   "source": [
    "xor_label"
   ]
  },
  {
   "cell_type": "code",
   "execution_count": 6,
   "id": "f91cad26-4d91-459b-a5cb-071aff99eb24",
   "metadata": {},
   "outputs": [
    {
     "name": "stdout",
     "output_type": "stream",
     "text": [
      "예측데이터 : [[0, 0], [0, 1], [1, 0], [1, 1]]\n",
      "예측 결과: [0 1 1 0]\n",
      "정답률: 4 / 4 = 100.0 %\n"
     ]
    }
   ],
   "source": [
    "from sklearn import svm\n",
    "# 데이터 학습시키기 --- (※2)\n",
    "model = svm.SVC()\n",
    "model.fit(xor_data, xor_label)\n",
    "# 데이터 예측하기 --- (※3)\n",
    "pre = model.predict(xor_data)\n",
    "print('예측데이터 :' , xor_data)\n",
    "print('예측 결과:', pre)\n",
    "# 결과 확인하기 --- (※4)\n",
    "ok = 0\n",
    "for idx, answer in enumerate(xor_label):\n",
    "    p = pre[idx]\n",
    "    if p == answer:\n",
    "        ok += 1\n",
    "\n",
    "print('정답률:',ok,'/',4,'=',(ok/4)*100,'%',)\n",
    "    "
   ]
  },
  {
   "cell_type": "code",
   "execution_count": 7,
   "id": "764a6b85-c723-4170-9e81-bcb2f8f5013a",
   "metadata": {},
   "outputs": [
    {
     "name": "stdout",
     "output_type": "stream",
     "text": [
      "1.0\n"
     ]
    }
   ],
   "source": [
    "import pandas as pd\n",
    "from sklearn import svm, metrics\n",
    "\n",
    "#xor 연산\n",
    "xor_input = [\n",
    "    [0,0,0],\n",
    "    [0,1,1],\n",
    "    [1,0,1],\n",
    "    [1,1,0]\n",
    "]\n",
    "\n",
    "#입력을 학습 전용 데이터와 테스트 전용 데이터로 분류하기\n",
    "xor_df = pd.DataFrame(xor_input)\n",
    "xor_data = xor_df[[0,1]]\n",
    "xor_label = xor_df[2]\n",
    "\n",
    "#데이터 학습과 예측하기 \n",
    "model = svm.SVC()\n",
    "model.fit(xor_data,xor_label)\n",
    "pre = model.predict(xor_data)\n",
    "\n",
    "#정답률 구하기\n",
    "ac_score = metrics.accuracy_score(xor_label,pre)\n",
    "print(ac_score)"
   ]
  },
  {
   "cell_type": "code",
   "execution_count": 8,
   "id": "92433b95-2fd1-4285-98fa-b36f485fe07c",
   "metadata": {},
   "outputs": [
    {
     "name": "stdout",
     "output_type": "stream",
     "text": [
      "1.0\n"
     ]
    }
   ],
   "source": [
    "# 모델바꾸기\n",
    "import pandas as pd\n",
    "from sklearn import svm, metrics\n",
    "from sklearn.neighbors import KNeighborsClassifier\n",
    "\n",
    "#xor 연산\n",
    "xor_input = [\n",
    "    [0,0,0],\n",
    "    [0,1,1],\n",
    "    [1,0,1],\n",
    "    [1,1,0]\n",
    "]\n",
    "\n",
    "#입력을 학습 전용 데이터와 테스트 전용 데이터로 분류하기\n",
    "xor_df = pd.DataFrame(xor_input)\n",
    "xor_data = xor_df[[0,1]]\n",
    "xor_label = xor_df[2]\n",
    "\n",
    "#데이터 학습과 예측하기 \n",
    "model = KNeighborsClassifier(n_neighbors=1)\n",
    "model.fit(xor_data,xor_label)\n",
    "pre = model.predict(xor_data)\n",
    "\n",
    "#정답률 구하기\n",
    "ac_score = metrics.accuracy_score(xor_label,pre)\n",
    "print(ac_score)"
   ]
  },
  {
   "cell_type": "code",
   "execution_count": 9,
   "id": "04c4412e-31eb-4e66-a984-80a205b7a73d",
   "metadata": {},
   "outputs": [],
   "source": [
    "#저장\n",
    "import pickle\n",
    "\n",
    "with open('xor_model.pkl','wb') as f:\n",
    "    pickle.dump(model, f)"
   ]
  },
  {
   "cell_type": "code",
   "execution_count": 10,
   "id": "bee02a85-105a-445b-b7d8-8d261e0fcb6f",
   "metadata": {},
   "outputs": [],
   "source": [
    "#불러오기\n",
    "import pickle\n",
    "\n",
    "with open('xor_model.pkl','rb')as f:\n",
    "    model = pickle.load(f)"
   ]
  },
  {
   "cell_type": "code",
   "execution_count": 11,
   "id": "d8f37bc5-8395-4093-b5ae-86cd93828041",
   "metadata": {},
   "outputs": [
    {
     "data": {
      "text/plain": [
       "array([0], dtype=int64)"
      ]
     },
     "execution_count": 11,
     "metadata": {},
     "output_type": "execute_result"
    }
   ],
   "source": [
    "model.predict([[1,1]])"
   ]
  },
  {
   "cell_type": "code",
   "execution_count": 12,
   "id": "d1ac747a-17ff-49fb-a10f-40d3b1d73f35",
   "metadata": {},
   "outputs": [
    {
     "name": "stdout",
     "output_type": "stream",
     "text": [
      "1.0\n"
     ]
    }
   ],
   "source": [
    "# and 연산\n",
    "import pandas as pd\n",
    "xand_input = [\n",
    "    [0,0,1],\n",
    "    [0,1,0],\n",
    "    [1,0,0],\n",
    "    [1,1,1]\n",
    "]\n",
    "\n",
    "xand_df = pd.DataFrame(xand_input)\n",
    "xand_data = xand_df[[0,1]] \n",
    "xand_label = xand_df[2]\n",
    "\n",
    "from sklearn.neighbors import KNeighborsClassifier\n",
    "model = KNeighborsClassifier(n_neighbors=1)\n",
    "model.fit(xand_data,xand_label)\n",
    "pre = model.predict(xand_data)\n",
    "\n",
    "ac_score = metrics.accuracy_score(xand_label, pre)\n",
    "print(ac_score)"
   ]
  },
  {
   "cell_type": "code",
   "execution_count": 13,
   "id": "05bee413-b67c-4e24-bbc5-10657c6ec811",
   "metadata": {},
   "outputs": [
    {
     "data": {
      "text/html": [
       "<div>\n",
       "<style scoped>\n",
       "    .dataframe tbody tr th:only-of-type {\n",
       "        vertical-align: middle;\n",
       "    }\n",
       "\n",
       "    .dataframe tbody tr th {\n",
       "        vertical-align: top;\n",
       "    }\n",
       "\n",
       "    .dataframe thead th {\n",
       "        text-align: right;\n",
       "    }\n",
       "</style>\n",
       "<table border=\"1\" class=\"dataframe\">\n",
       "  <thead>\n",
       "    <tr style=\"text-align: right;\">\n",
       "      <th></th>\n",
       "      <th>Gender</th>\n",
       "      <th>Height</th>\n",
       "      <th>Weight</th>\n",
       "    </tr>\n",
       "    <tr>\n",
       "      <th>Label</th>\n",
       "      <th></th>\n",
       "      <th></th>\n",
       "      <th></th>\n",
       "    </tr>\n",
       "  </thead>\n",
       "  <tbody>\n",
       "    <tr>\n",
       "      <th>Obesity</th>\n",
       "      <td>Male</td>\n",
       "      <td>174</td>\n",
       "      <td>96</td>\n",
       "    </tr>\n",
       "    <tr>\n",
       "      <th>Normal</th>\n",
       "      <td>Male</td>\n",
       "      <td>189</td>\n",
       "      <td>87</td>\n",
       "    </tr>\n",
       "    <tr>\n",
       "      <th>Obesity</th>\n",
       "      <td>Female</td>\n",
       "      <td>185</td>\n",
       "      <td>110</td>\n",
       "    </tr>\n",
       "    <tr>\n",
       "      <th>Overweight</th>\n",
       "      <td>Female</td>\n",
       "      <td>195</td>\n",
       "      <td>104</td>\n",
       "    </tr>\n",
       "    <tr>\n",
       "      <th>Overweight</th>\n",
       "      <td>Male</td>\n",
       "      <td>149</td>\n",
       "      <td>61</td>\n",
       "    </tr>\n",
       "  </tbody>\n",
       "</table>\n",
       "</div>"
      ],
      "text/plain": [
       "            Gender  Height  Weight\n",
       "Label                             \n",
       "Obesity       Male     174      96\n",
       "Normal        Male     189      87\n",
       "Obesity     Female     185     110\n",
       "Overweight  Female     195     104\n",
       "Overweight    Male     149      61"
      ]
     },
     "execution_count": 13,
     "metadata": {},
     "output_type": "execute_result"
    }
   ],
   "source": [
    "import pandas as pd\n",
    "import matplotlib.pyplot as plt\n",
    "from sklearn.neighbors import KNeighborsClassifier\n",
    "\n",
    "df = pd.read_csv('temp/bmi_500.csv', index_col= 'Label')\n",
    "df.head()"
   ]
  },
  {
   "cell_type": "code",
   "execution_count": 14,
   "id": "efc6773d-a3b6-40c4-a7bc-a93a89cdfca2",
   "metadata": {},
   "outputs": [
    {
     "name": "stdout",
     "output_type": "stream",
     "text": [
      "<class 'pandas.core.frame.DataFrame'>\n",
      "Index: 500 entries, Obesity to Extreme Obesity\n",
      "Data columns (total 3 columns):\n",
      " #   Column  Non-Null Count  Dtype \n",
      "---  ------  --------------  ----- \n",
      " 0   Gender  500 non-null    object\n",
      " 1   Height  500 non-null    int64 \n",
      " 2   Weight  500 non-null    int64 \n",
      "dtypes: int64(2), object(1)\n",
      "memory usage: 15.6+ KB\n"
     ]
    }
   ],
   "source": [
    "df.info()"
   ]
  },
  {
   "cell_type": "code",
   "execution_count": null,
   "id": "54f395f3-46a3-4dce-a6fe-fe0e672c8ee6",
   "metadata": {},
   "outputs": [],
   "source": []
  },
  {
   "cell_type": "code",
   "execution_count": null,
   "id": "0b0f5c65-0a4e-4e4a-be14-8ab0c56471ff",
   "metadata": {},
   "outputs": [],
   "source": []
  }
 ],
 "metadata": {
  "kernelspec": {
   "display_name": "Python 3",
   "language": "python",
   "name": "python3"
  },
  "language_info": {
   "codemirror_mode": {
    "name": "ipython",
    "version": 3
   },
   "file_extension": ".py",
   "mimetype": "text/x-python",
   "name": "python",
   "nbconvert_exporter": "python",
   "pygments_lexer": "ipython3",
   "version": "3.8.8"
  }
 },
 "nbformat": 4,
 "nbformat_minor": 5
}

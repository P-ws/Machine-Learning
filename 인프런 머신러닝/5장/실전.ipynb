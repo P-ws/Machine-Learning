{
 "cells": [
  {
   "cell_type": "code",
   "execution_count": 26,
   "id": "56b0f9e9-6e04-4a87-a568-5ee0ca1b5fa3",
   "metadata": {},
   "outputs": [
    {
     "name": "stdout",
     "output_type": "stream",
     "text": [
      "Boston 데이타셋 크기 :  (506, 14)\n",
      "5 folds의 개별 Negative MSE scores: [-11.422 -24.294 -28.144 -74.599 -28.517]\n",
      "5 folds의 개별 RMSE scores: [3.38  4.929 5.305 8.637 5.34 ]\n",
      "5 folds의 평균 RMSE: 5.518\n"
     ]
    }
   ],
   "source": [
    "import numpy as np\n",
    "import matplotlib.pyplot as plt\n",
    "import pandas as pd\n",
    "import seaborn as sns\n",
    "from scipy import stats\n",
    "from sklearn.datasets import load_boston\n",
    "from sklearn.linear_model import Ridge\n",
    "from sklearn.model_selection import cross_val_score\n",
    "\n",
    "boston = load_boston()\n",
    "\n",
    "bostonDF = pd.DataFrame(boston.data, columns=boston.feature_names)\n",
    "\n",
    "bostonDF['PRICE'] = boston.target\n",
    "print('Boston 데이타셋 크기 : ', bostonDF.shape)\n",
    "\n",
    "y_target = bostonDF['PRICE']\n",
    "X_data = bostonDF.drop(['PRICE'], axis=1, inplace=False)\n",
    "\n",
    "ridge = Ridge(alpha=10)\n",
    "neg_mse_scores = cross_val_score(ridge, X_data, y_target, scoring='neg_mean_squared_error', cv=5)\n",
    "rmse_scores = np.sqrt(-1 * neg_mse_scores)\n",
    "avg_rmse = np.mean(rmse_scores)\n",
    "print('5 folds의 개별 Negative MSE scores:', np.round(neg_mse_scores,3))\n",
    "print('5 folds의 개별 RMSE scores:', np.round(rmse_scores,3))\n",
    "print('5 folds의 평균 RMSE: {0:.3f}'.format(avg_rmse))"
   ]
  },
  {
   "cell_type": "markdown",
   "id": "b7627200-43ea-489f-bc00-e38cfe5d4686",
   "metadata": {},
   "source": [
    "## 선형 회귀 모델을 위한 데이터 변환"
   ]
  },
  {
   "cell_type": "code",
   "execution_count": 27,
   "id": "7f0fe703-5dee-4d09-992d-b057bd00812c",
   "metadata": {},
   "outputs": [
    {
     "name": "stdout",
     "output_type": "stream",
     "text": [
      "(506,)\n"
     ]
    },
    {
     "data": {
      "image/png": "[encoded data removed]",
      "text/plain": [
       "<Figure size 432x288 with 1 Axes>"
      ]
     },
     "metadata": {
      "needs_background": "light"
     },
     "output_type": "display_data"
    }
   ],
   "source": [
    "# target값이 정규분포를 띄어야함(지금데이터는 비교적 정규분포여서 넘어감, 아닐시 log씌워주거나 다양한 방법)\n",
    "print(y_target.shape)\n",
    "plt.hist(y_target, bins=10)\n",
    "plt.show()"
   ]
  },
  {
   "cell_type": "code",
   "execution_count": 28,
   "id": "c2a38509-1d04-4e5b-916f-bb1ffa839450",
   "metadata": {},
   "outputs": [],
   "source": [
    "from sklearn.preprocessing import StandardScaler, MinMaxScaler, PolynomialFeatures\n",
    "\n",
    "# method는 표준 정규 분포 변환(Standard), 최대값/최소값 정규화(MinMax), 로그변환(Log) 결정\n",
    "# p_degree는 다향식 특성을 추가할 때 적용. p_degree는 2이상 부여하지 않음. \n",
    "def get_scaled_data(method='None', p_degree=None, input_data=None):\n",
    "    if method == 'Standard':\n",
    "        scaled_data = StandardScaler().fit_transform(input_data)\n",
    "    elif method == 'MinMax':\n",
    "        scaled_data = MinMaxScaler().fit_transform(input_data)\n",
    "    elif method == 'Log':\n",
    "        scaled_data = np.log1p(input_data)\n",
    "    else:\n",
    "        scaled_data = input_data\n",
    "\n",
    "    if p_degree != None:\n",
    "        scaled_data = PolynomialFeatures(degree=p_degree, \n",
    "                                         include_bias=False).fit_transform(scaled_data)\n",
    "    \n",
    "    return scaled_data"
   ]
  },
  {
   "cell_type": "code",
   "execution_count": 38,
   "id": "aa94d95b-d28a-4b53-bc15-6c0b1c978026",
   "metadata": {},
   "outputs": [],
   "source": [
    "from sklearn.linear_model import Lasso, ElasticNet\n",
    "\n",
    "# alpha값에 따른 회귀 모델의 폴드 평균 RMSE를 출력하고 회귀 계수값들을 DataFrame으로 반환 \n",
    "def get_linear_reg_eval(model_name, params=None, X_data_n=None, y_target_n=None, verbose=True):\n",
    "    coeff_df = pd.DataFrame()\n",
    "    if verbose : print('####### ', model_name , '#######')\n",
    "    for param in params:\n",
    "        if model_name =='Ridge': model = Ridge(alpha=param)\n",
    "        elif model_name =='Lasso': model = Lasso(alpha=param)\n",
    "        elif model_name =='ElasticNet': model = ElasticNet(alpha=param, l1_ratio=0.7)\n",
    "        neg_mse_scores = cross_val_score(model, X_data_n, \n",
    "                                             y_target_n, scoring=\"neg_mean_squared_error\", cv = 5)\n",
    "        avg_rmse = np.mean(np.sqrt(-1 * neg_mse_scores))\n",
    "        print('alpha {0}일 때 5 폴드 세트의 평균 RMSE: {1:.3f} '.format(param, avg_rmse))\n",
    "        # cross_val_score는 evaluation metric만 반환하므로 모델을 다시 학습하여 회귀 계수 추출\n",
    "    return coeff_df\n",
    "# end of get_linear_regre_eval"
   ]
  },
  {
   "cell_type": "code",
   "execution_count": 39,
   "id": "5b332595-247d-4568-bd1f-59d09c8b5313",
   "metadata": {},
   "outputs": [
    {
     "name": "stdout",
     "output_type": "stream",
     "text": [
      "\n",
      "## 변환 유형:None, Polynomial Degree:None\n",
      "alpha 0.1일 때 5 폴드 세트의 평균 RMSE: 5.788 \n",
      "alpha 1일 때 5 폴드 세트의 평균 RMSE: 5.653 \n",
      "alpha 10일 때 5 폴드 세트의 평균 RMSE: 5.518 \n",
      "alpha 100일 때 5 폴드 세트의 평균 RMSE: 5.330 \n",
      "\n",
      "## 변환 유형:Standard, Polynomial Degree:None\n",
      "alpha 0.1일 때 5 폴드 세트의 평균 RMSE: 5.826 \n",
      "alpha 1일 때 5 폴드 세트의 평균 RMSE: 5.803 \n",
      "alpha 10일 때 5 폴드 세트의 평균 RMSE: 5.637 \n",
      "alpha 100일 때 5 폴드 세트의 평균 RMSE: 5.421 \n",
      "\n",
      "## 변환 유형:Standard, Polynomial Degree:2\n",
      "alpha 0.1일 때 5 폴드 세트의 평균 RMSE: 8.827 \n",
      "alpha 1일 때 5 폴드 세트의 평균 RMSE: 6.871 \n",
      "alpha 10일 때 5 폴드 세트의 평균 RMSE: 5.485 \n",
      "alpha 100일 때 5 폴드 세트의 평균 RMSE: 4.634 \n",
      "\n",
      "## 변환 유형:MinMax, Polynomial Degree:None\n",
      "alpha 0.1일 때 5 폴드 세트의 평균 RMSE: 5.764 \n",
      "alpha 1일 때 5 폴드 세트의 평균 RMSE: 5.465 \n",
      "alpha 10일 때 5 폴드 세트의 평균 RMSE: 5.754 \n",
      "alpha 100일 때 5 폴드 세트의 평균 RMSE: 7.635 \n",
      "\n",
      "## 변환 유형:MinMax, Polynomial Degree:2\n",
      "alpha 0.1일 때 5 폴드 세트의 평균 RMSE: 5.298 \n",
      "alpha 1일 때 5 폴드 세트의 평균 RMSE: 4.323 \n",
      "alpha 10일 때 5 폴드 세트의 평균 RMSE: 5.185 \n",
      "alpha 100일 때 5 폴드 세트의 평균 RMSE: 6.538 \n",
      "\n",
      "## 변환 유형:Log, Polynomial Degree:None\n",
      "alpha 0.1일 때 5 폴드 세트의 평균 RMSE: 4.770 \n",
      "alpha 1일 때 5 폴드 세트의 평균 RMSE: 4.676 \n",
      "alpha 10일 때 5 폴드 세트의 평균 RMSE: 4.836 \n",
      "alpha 100일 때 5 폴드 세트의 평균 RMSE: 6.241 \n"
     ]
    }
   ],
   "source": [
    "# Ridge의 alpha값을 다르게 적용하고 다양한 데이터 변환방법에 따른 RMSE 추출. \n",
    "alphas = [0.1, 1, 10, 100]\n",
    "#변환 방법은 모두 6개, 원본 그대로, 표준정규분포, 표준정규분포+다항식 특성\n",
    "# 최대/최소 정규화, 최대/최소 정규화+다항식 특성, 로그변환 \n",
    "scale_methods=[(None, None), ('Standard', None), ('Standard', 2), \n",
    "               ('MinMax', None), ('MinMax', 2), ('Log', None)]\n",
    "\n",
    "for scale_method in scale_methods:\n",
    "    X_data_scaled = get_scaled_data(method=scale_method[0], p_degree=scale_method[1], \n",
    "                                    input_data=X_data)\n",
    "    print('\\n## 변환 유형:{0}, Polynomial Degree:{1}'.format(scale_method[0], scale_method[1]))\n",
    "    get_linear_reg_eval('Ridge', params=alphas, X_data_n=X_data_scaled, \n",
    "                        y_target_n=y_target, verbose=False)"
   ]
  },
  {
   "cell_type": "code",
   "execution_count": null,
   "id": "f1cb3189-ece8-4b0e-80e8-d44bad89ca63",
   "metadata": {},
   "outputs": [],
   "source": []
  }
 ],
 "metadata": {
  "kernelspec": {
   "display_name": "Python 3",
   "language": "python",
   "name": "python3"
  },
  "language_info": {
   "codemirror_mode": {
    "name": "ipython",
    "version": 3
   },
   "file_extension": ".py",
   "mimetype": "text/x-python",
   "name": "python",
   "nbconvert_exporter": "python",
   "pygments_lexer": "ipython3",
   "version": "3.8.8"
  }
 },
 "nbformat": 4,
 "nbformat_minor": 5
}
